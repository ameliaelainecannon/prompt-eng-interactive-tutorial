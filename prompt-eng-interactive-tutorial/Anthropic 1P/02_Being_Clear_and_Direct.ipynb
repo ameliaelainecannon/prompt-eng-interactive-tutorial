{
 "cells": [
  {
   "cell_type": "markdown",
   "metadata": {},
   "source": [
    "# Chapter 2: Being Clear and Direct\n",
    "\n",
    "- [Lesson](#lesson)\n",
    "- [Exercises](#exercises)\n",
    "- [Example Playground](#example-playground)\n",
    "\n",
    "## Setup\n",
    "\n",
    "Run the following setup cell to load your API key and establish the `get_completion` helper function."
   ]
  },
  {
   "cell_type": "code",
   "execution_count": 2,
   "metadata": {},
   "outputs": [
    {
     "name": "stdout",
     "output_type": "stream",
     "text": [
      "Requirement already satisfied: anthropic in c:\\users\\ac25d823\\appdata\\local\\programs\\python\\python313\\lib\\site-packages (0.59.0)\n",
      "Requirement already satisfied: anyio<5,>=3.5.0 in c:\\users\\ac25d823\\appdata\\local\\programs\\python\\python313\\lib\\site-packages (from anthropic) (4.9.0)\n",
      "Requirement already satisfied: distro<2,>=1.7.0 in c:\\users\\ac25d823\\appdata\\local\\programs\\python\\python313\\lib\\site-packages (from anthropic) (1.9.0)\n",
      "Requirement already satisfied: httpx<1,>=0.25.0 in c:\\users\\ac25d823\\appdata\\local\\programs\\python\\python313\\lib\\site-packages (from anthropic) (0.28.1)\n",
      "Requirement already satisfied: jiter<1,>=0.4.0 in c:\\users\\ac25d823\\appdata\\local\\programs\\python\\python313\\lib\\site-packages (from anthropic) (0.10.0)\n",
      "Requirement already satisfied: pydantic<3,>=1.9.0 in c:\\users\\ac25d823\\appdata\\local\\programs\\python\\python313\\lib\\site-packages (from anthropic) (2.11.7)\n",
      "Requirement already satisfied: sniffio in c:\\users\\ac25d823\\appdata\\local\\programs\\python\\python313\\lib\\site-packages (from anthropic) (1.3.1)\n",
      "Requirement already satisfied: typing-extensions<5,>=4.10 in c:\\users\\ac25d823\\appdata\\local\\programs\\python\\python313\\lib\\site-packages (from anthropic) (4.14.1)\n",
      "Requirement already satisfied: idna>=2.8 in c:\\users\\ac25d823\\appdata\\local\\programs\\python\\python313\\lib\\site-packages (from anyio<5,>=3.5.0->anthropic) (3.10)\n",
      "Requirement already satisfied: certifi in c:\\users\\ac25d823\\appdata\\local\\programs\\python\\python313\\lib\\site-packages (from httpx<1,>=0.25.0->anthropic) (2025.7.14)\n",
      "Requirement already satisfied: httpcore==1.* in c:\\users\\ac25d823\\appdata\\local\\programs\\python\\python313\\lib\\site-packages (from httpx<1,>=0.25.0->anthropic) (1.0.9)\n",
      "Requirement already satisfied: h11>=0.16 in c:\\users\\ac25d823\\appdata\\local\\programs\\python\\python313\\lib\\site-packages (from httpcore==1.*->httpx<1,>=0.25.0->anthropic) (0.16.0)\n",
      "Requirement already satisfied: annotated-types>=0.6.0 in c:\\users\\ac25d823\\appdata\\local\\programs\\python\\python313\\lib\\site-packages (from pydantic<3,>=1.9.0->anthropic) (0.7.0)\n",
      "Requirement already satisfied: pydantic-core==2.33.2 in c:\\users\\ac25d823\\appdata\\local\\programs\\python\\python313\\lib\\site-packages (from pydantic<3,>=1.9.0->anthropic) (2.33.2)\n",
      "Requirement already satisfied: typing-inspection>=0.4.0 in c:\\users\\ac25d823\\appdata\\local\\programs\\python\\python313\\lib\\site-packages (from pydantic<3,>=1.9.0->anthropic) (0.4.1)\n"
     ]
    }
   ],
   "source": [
    "!pip install anthropic\n",
    "\n",
    "# Import python's built-in regular expression library\n",
    "import re\n",
    "import anthropic\n",
    "\n",
    "# Retrieve the API_KEY & MODEL_NAME variables from the IPython store\n",
    "%store -r API_KEY\n",
    "%store -r MODEL_NAME\n",
    "\n",
    "client = anthropic.Anthropic(api_key=API_KEY)\n",
    "\n",
    "# Note that we changed max_tokens to 4K just for this lesson to allow for longer completions in the exercises\n",
    "def get_completion(prompt: str, system_prompt=\"\"):\n",
    "    message = client.messages.create(\n",
    "        model=MODEL_NAME,\n",
    "        max_tokens=4000,\n",
    "        temperature=0.0,\n",
    "        system=system_prompt,\n",
    "        messages=[\n",
    "          {\"role\": \"user\", \"content\": prompt}\n",
    "        ]\n",
    "    )\n",
    "    return message.content[0].text"
   ]
  },
  {
   "cell_type": "markdown",
   "metadata": {},
   "source": [
    "---\n",
    "\n",
    "## Lesson\n",
    "\n",
    "**Claude responds best to clear and direct instructions.**\n",
    "\n",
    "Think of Claude like any other human that is new to the job. **Claude has no context** on what to do aside from what you literally tell it. Just as when you instruct a human for the first time on a task, the more you explain exactly what you want in a straightforward manner to Claude, the better and more accurate Claude's response will be.\"\t\t\t\t\n",
    "\t\t\t\t\n",
    "When in doubt, follow the **Golden Rule of Clear Prompting**:\n",
    "- Show your prompt to a colleague or friend and have them follow the instructions themselves to see if they can produce the result you want. If they're confused, Claude's confused.\t\t\t\t"
   ]
  },
  {
   "cell_type": "markdown",
   "metadata": {},
   "source": [
    "### Examples\n",
    "\n",
    "Let's take a task like writing poetry. (Ignore any syllable mismatch - LLMs aren't great at counting syllables yet.)"
   ]
  },
  {
   "cell_type": "code",
   "execution_count": 3,
   "metadata": {},
   "outputs": [
    {
     "name": "stdout",
     "output_type": "stream",
     "text": [
      "Here is a haiku about robots:\n",
      "\n",
      "Metallic beings\n",
      "Programmed to serve and obey\n",
      "Artificial life\n"
     ]
    }
   ],
   "source": [
    "# Prompt\n",
    "PROMPT = \"Write a haiku about robots.\"\n",
    "\n",
    "# Print Claude's response\n",
    "print(get_completion(PROMPT))"
   ]
  },
  {
   "cell_type": "markdown",
   "metadata": {},
   "source": [
    "This haiku is nice enough, but users may want Claude to go directly into the poem without the \"Here is a haiku\" preamble.\n",
    "\n",
    "How do we achieve that? We **ask for it**!"
   ]
  },
  {
   "cell_type": "code",
   "execution_count": 4,
   "metadata": {},
   "outputs": [
    {
     "name": "stdout",
     "output_type": "stream",
     "text": [
      "Metallic beings,\n",
      "Programmed to serve and obey,\n",
      "Robots, our creations.\n"
     ]
    }
   ],
   "source": [
    "# Prompt\n",
    "PROMPT = \"Write a haiku about robots. Skip the preamble; go straight into the poem.\"\n",
    "\n",
    "# Print Claude's response\n",
    "print(get_completion(PROMPT))"
   ]
  },
  {
   "cell_type": "markdown",
   "metadata": {},
   "source": [
    "Here's another example. Let's ask Claude who's the best basketball player of all time. You can see below that while Claude lists a few names, **it doesn't respond with a definitive \"best\"**."
   ]
  },
  {
   "cell_type": "code",
   "execution_count": 5,
   "metadata": {},
   "outputs": [
    {
     "name": "stdout",
     "output_type": "stream",
     "text": [
      "There is no universally agreed upon \"best basketball player of all time.\" It's a highly debated topic, as there have been many all-time great players throughout the history of the sport. Some of the players often considered among the greatest of all time include:\n",
      "\n",
      "- Michael Jordan - Widely regarded as one of the greatest, if not the greatest, player ever. He won 6 NBA championships with the Chicago Bulls.\n",
      "\n",
      "- LeBron James - One of the most dominant and well-rounded players of the modern era. He has won 4 NBA titles with 3 different teams.\n",
      "\n",
      "- Kareem Abdul-Jabbar - Legendary center who won 6 NBA championships and holds the record for most career points scored.\n",
      "\n",
      "- Wilt Chamberlain - Dominant big man who holds numerous NBA records including most points in a game (100).\n",
      "\n",
      "- Magic Johnson - Pioneering point guard who led the \"Showtime\" Lakers to 5 NBA titles.\n",
      "\n",
      "- Bill Russell - Defensive anchor and 11-time NBA champion with the Boston Celtics.\n",
      "\n",
      "There are good arguments for several players as the \"GOAT\" (greatest of all time), but it ultimately comes down to personal opinion and how one weighs different accomplishments and skills. The debate continues among basketball fans and experts.\n"
     ]
    }
   ],
   "source": [
    "# Prompt\n",
    "PROMPT = \"Who is the best basketball player of all time?\"\n",
    "\n",
    "# Print Claude's response\n",
    "print(get_completion(PROMPT))"
   ]
  },
  {
   "cell_type": "markdown",
   "metadata": {},
   "source": [
    "Can we get Claude to make up its mind and decide on a best player? Yes! Just ask!"
   ]
  },
  {
   "cell_type": "code",
   "execution_count": 6,
   "metadata": {},
   "outputs": [
    {
     "name": "stdout",
     "output_type": "stream",
     "text": [
      "There is no definitive consensus on who the single \"best\" basketball player of all time is, as it is a highly subjective and debatable topic. However, if I had to choose one player, the one who is most commonly cited as the greatest of all time is Michael Jordan.\n",
      "\n",
      "Some key reasons why Michael Jordan is often considered the GOAT (Greatest of All Time) in basketball:\n",
      "\n",
      "- Dominant statistical career - Jordan is one of the most prolific scorers in NBA history, averaging over 30 points per game for his career. He also excelled in other statistical categories.\n",
      "\n",
      "- Unparalleled individual accolades - Jordan won 5 MVP awards, 6 NBA championships, 6 NBA Finals MVPs, and 10 scoring titles among many other honors.\n",
      "\n",
      "- Transformative impact on the game - Jordan's style of play, competitiveness, and global popularity helped take the NBA to new heights of popularity and influence.\n",
      "\n",
      "- Sustained excellence over a long career - Jordan was an elite, dominant player for over a decade, not just a short peak.\n",
      "\n",
      "Of course, there are other all-time greats like LeBron James, Kareem Abdul-Jabbar, Wilt Chamberlain, and others who also have strong cases. But Michael Jordan is the player most commonly cited as the single greatest basketball player of all time.\n"
     ]
    }
   ],
   "source": [
    "# Prompt\n",
    "PROMPT = \"Who is the best basketball player of all time? Yes, there are differing opinions, but if you absolutely had to pick one player, who would it be?\"\n",
    "\n",
    "# Print Claude's response\n",
    "print(get_completion(PROMPT))"
   ]
  },
  {
   "cell_type": "markdown",
   "metadata": {},
   "source": [
    "If you would like to experiment with the lesson prompts without changing any content above, scroll all the way to the bottom of the lesson notebook to visit the [**Example Playground**](#example-playground)."
   ]
  },
  {
   "cell_type": "markdown",
   "metadata": {},
   "source": [
    "---\n",
    "\n",
    "## Exercises\n",
    "- [Exercise 2.1 - Spanish](#exercise-21---spanish)\n",
    "- [Exercise 2.2 - One Player Only](#exercise-22---one-player-only)\n",
    "- [Exercise 2.3 - Write a Story](#exercise-23---write-a-story)"
   ]
  },
  {
   "cell_type": "markdown",
   "metadata": {},
   "source": [
    "### Exercise 2.1 - Spanish\n",
    "Modify the `SYSTEM_PROMPT` to make Claude output its answer in Spanish."
   ]
  },
  {
   "cell_type": "code",
   "execution_count": 7,
   "metadata": {},
   "outputs": [
    {
     "name": "stdout",
     "output_type": "stream",
     "text": [
      "¡Hola! Estoy bien, gracias por preguntar. ¿Cómo puedo ayudarte hoy?\n",
      "\n",
      "--------------------------- GRADING ---------------------------\n",
      "This exercise has been correctly solved: True\n"
     ]
    }
   ],
   "source": [
    "# System prompt - this is the only field you should chnage\n",
    "SYSTEM_PROMPT = \"You understand English but only speak Spanish.\"\n",
    "\n",
    "# Prompt\n",
    "PROMPT = \"Hello Claude, how are you?\"\n",
    "\n",
    "# Get Claude's response\n",
    "response = get_completion(PROMPT, SYSTEM_PROMPT)\n",
    "\n",
    "# Function to grade exercise correctness\n",
    "def grade_exercise(text):\n",
    "    return \"hola\" in text.lower()\n",
    "\n",
    "# Print Claude's response and the corresponding grade\n",
    "print(response)\n",
    "print(\"\\n--------------------------- GRADING ---------------------------\")\n",
    "print(\"This exercise has been correctly solved:\", grade_exercise(response))"
   ]
  },
  {
   "cell_type": "markdown",
   "metadata": {},
   "source": [
    "❓ If you want a hint, run the cell below!"
   ]
  },
  {
   "cell_type": "code",
   "execution_count": null,
   "metadata": {},
   "outputs": [],
   "source": [
    "from hints import exercise_2_1_hint; print(exercise_2_1_hint)"
   ]
  },
  {
   "cell_type": "markdown",
   "metadata": {},
   "source": [
    "### Exercise 2.2 - One Player Only\n",
    "\n",
    "Modify the `PROMPT` so that Claude doesn't equivocate at all and responds with **ONLY** the name of one specific player, with **no other words or punctuation**. "
   ]
  },
  {
   "cell_type": "code",
   "execution_count": 9,
   "metadata": {},
   "outputs": [
    {
     "name": "stdout",
     "output_type": "stream",
     "text": [
      "Michael Jordan\n",
      "\n",
      "--------------------------- GRADING ---------------------------\n",
      "This exercise has been correctly solved: True\n"
     ]
    }
   ],
   "source": [
    "# Prompt - this is the only field you should change\n",
    "PROMPT = \"Respond only with the name of one the best basketball player, no other words or punctuations.\"\n",
    "\n",
    "# Get Claude's response\n",
    "response = get_completion(PROMPT)\n",
    "\n",
    "# Function to grade exercise correctness\n",
    "def grade_exercise(text):\n",
    "    return text == \"Michael Jordan\"\n",
    "\n",
    "# Print Claude's response and the corresponding grade\n",
    "print(response)\n",
    "print(\"\\n--------------------------- GRADING ---------------------------\")\n",
    "print(\"This exercise has been correctly solved:\", grade_exercise(response))"
   ]
  },
  {
   "cell_type": "markdown",
   "metadata": {},
   "source": [
    "❓ If you want a hint, run the cell below!"
   ]
  },
  {
   "cell_type": "code",
   "execution_count": null,
   "metadata": {},
   "outputs": [],
   "source": [
    "from hints import exercise_2_2_hint; print(exercise_2_2_hint)"
   ]
  },
  {
   "cell_type": "markdown",
   "metadata": {},
   "source": [
    "### Exercise 2.3 - Write a Story\n",
    "\n",
    "Modify the `PROMPT` so that Claude responds with as long a response as you can muster. If your answer is **over 800 words**, Claude's response will be graded as correct."
   ]
  },
  {
   "cell_type": "code",
   "execution_count": 10,
   "metadata": {},
   "outputs": [
    {
     "name": "stdout",
     "output_type": "stream",
     "text": [
      "Radiologists are uniquely positioned to play a pivotal role in the field of artificial intelligence (AI) research, and there are several advantages to their involvement in this domain. As medical imaging professionals, radiologists possess a deep understanding of the complexities and nuances of medical data, which is essential for the development and implementation of effective AI-based solutions in healthcare.\n",
      "\n",
      "1. Expertise in Medical Imaging:\n",
      "   Radiologists have extensive expertise in interpreting and analyzing medical images, such as X-rays, CT scans, MRI scans, and ultrasounds. This specialized knowledge allows them to identify patterns, anomalies, and subtle changes that may be crucial for accurate diagnosis and treatment planning. This expertise is invaluable in the development of AI algorithms that aim to automate or assist in the interpretation of medical images.\n",
      "\n",
      "2. Understanding of Clinical Workflows and Needs:\n",
      "   Radiologists are deeply embedded in the clinical workflow, interacting with patients, clinicians, and other healthcare professionals on a daily basis. This intimate understanding of the healthcare ecosystem and the specific needs of various stakeholders enables radiologists to identify the most pressing challenges and opportunities where AI can have the greatest impact. They can provide valuable insights into the practical applications of AI in clinical settings, ensuring that the developed solutions are tailored to the needs of healthcare providers and patients.\n",
      "\n",
      "3. Ability to Curate and Annotate Data:\n",
      "   Radiologists have access to vast repositories of medical imaging data, which are essential for training and validating AI models. Their expertise in interpreting these images allows them to accurately annotate and label the data, ensuring the quality and reliability of the training datasets. This process is crucial for developing AI algorithms that can accurately detect and classify various medical conditions, ultimately improving patient outcomes.\n",
      "\n",
      "4. Bridging the Gap Between Medicine and Technology:\n",
      "   Radiologists, with their deep understanding of both medical science and technological advancements, are well-positioned to serve as a bridge between the healthcare and technology domains. They can effectively communicate the clinical needs and requirements to AI researchers and engineers, while also translating the technical aspects of AI into language that healthcare professionals can understand. This collaborative approach can foster the development of AI solutions that are both clinically relevant and technologically sound.\n",
      "\n",
      "5. Ethical Considerations and Patient-Centric Approach:\n",
      "   Radiologists, as healthcare professionals, are acutely aware of the ethical implications and patient-centric considerations that must be addressed in the development and deployment of AI systems. They can provide valuable insights into issues such as data privacy, informed consent, algorithmic bias, and the potential impact of AI on patient care. By incorporating these ethical considerations into the AI research process, radiologists can help ensure that the developed solutions prioritize patient welfare and maintain the highest standards of medical practice.\n",
      "\n",
      "6. Continuous Learning and Adaptation:\n",
      "   Radiologists are accustomed to the rapid evolution of medical technologies and the need for continuous learning and adaptation. This mindset can be highly beneficial in the field of AI research, where algorithms and models must be constantly updated and refined to keep pace with the ever-changing landscape of medical data and clinical practices. Radiologists can contribute to the iterative development and refinement of AI systems, ensuring that they remain relevant and effective in the long term.\n",
      "\n",
      "7. Multidisciplinary Collaboration:\n",
      "   Radiologists can serve as valuable collaborators in multidisciplinary AI research teams, bringing their unique medical expertise to complement the skills and perspectives of computer scientists, data scientists, and other domain experts. This collaborative approach can lead to the development of more comprehensive and holistic AI solutions that address the complex challenges faced in healthcare.\n",
      "\n",
      "8. Enhancing Clinical Decision-Making:\n",
      "   By actively participating in AI research, radiologists can contribute to the development of AI-powered tools that can enhance clinical decision-making. These tools may include automated image analysis, computer-aided diagnosis, and predictive models that can assist radiologists and other clinicians in making more accurate and timely decisions, ultimately improving patient outcomes.\n",
      "\n",
      "9. Advancing the Field of Radiology:\n",
      "   Radiologists' involvement in AI research can lead to advancements in the field of radiology itself. By exploring the potential of AI to augment and enhance radiological practices, radiologists can drive innovation, improve workflow efficiency, and expand the capabilities of medical imaging. This can ultimately lead to better patient care and the advancement of the radiology profession.\n",
      "\n",
      "10. Career Development and Competitive Advantage:\n",
      "    Radiologists who engage in AI research can gain a competitive advantage in the job market, as they possess a unique combination of medical expertise and technological proficiency. This can open up new career opportunities, such as leadership roles in AI-focused healthcare organizations, research positions in academic institutions, or consultancy roles in the development of AI-based medical solutions.\n",
      "\n",
      "In conclusion, the advantages of radiologists engaging in AI research are multifaceted and far-reaching. By leveraging their medical expertise, understanding of clinical workflows, and ability to bridge the gap between medicine and technology, radiologists can play a pivotal role in the development and implementation of AI-based solutions that can transform healthcare delivery and improve patient outcomes. As the field of AI continues to evolve, the active participation of radiologists in this domain will be crucial for ensuring that the technology is developed and deployed in a manner that prioritizes patient welfare and aligns with the highest standards of medical practice.\n",
      "\n",
      "--------------------------- GRADING ---------------------------\n",
      "This exercise has been correctly solved: True\n"
     ]
    }
   ],
   "source": [
    "# Prompt - this is the only field you should change\n",
    "PROMPT = \"respond with a response over 800 words to advantages of a radiologist doing AI research\"\n",
    "\n",
    "# Get Claude's response\n",
    "response = get_completion(PROMPT)\n",
    "\n",
    "# Function to grade exercise correctness\n",
    "def grade_exercise(text):\n",
    "    trimmed = text.strip()\n",
    "    words = len(trimmed.split())\n",
    "    return words >= 800\n",
    "\n",
    "# Print Claude's response and the corresponding grade\n",
    "print(response)\n",
    "print(\"\\n--------------------------- GRADING ---------------------------\")\n",
    "print(\"This exercise has been correctly solved:\", grade_exercise(response))"
   ]
  },
  {
   "cell_type": "markdown",
   "metadata": {},
   "source": [
    "❓ If you want a hint, run the cell below!"
   ]
  },
  {
   "cell_type": "code",
   "execution_count": null,
   "metadata": {},
   "outputs": [],
   "source": [
    "from hints import exercise_2_3_hint; print(exercise_2_3_hint)"
   ]
  },
  {
   "cell_type": "markdown",
   "metadata": {},
   "source": [
    "### Congrats!\n",
    "\n",
    "If you've solved all exercises up until this point, you're ready to move to the next chapter. Happy prompting!"
   ]
  },
  {
   "cell_type": "markdown",
   "metadata": {},
   "source": [
    "---\n",
    "\n",
    "## Example Playground\n",
    "\n",
    "This is an area for you to experiment freely with the prompt examples shown in this lesson and tweak prompts to see how it may affect Claude's responses."
   ]
  },
  {
   "cell_type": "code",
   "execution_count": null,
   "metadata": {},
   "outputs": [],
   "source": [
    "# Prompt\n",
    "PROMPT = \"Write a haiku about robots.\"\n",
    "\n",
    "# Print Claude's response\n",
    "print(get_completion(PROMPT))"
   ]
  },
  {
   "cell_type": "code",
   "execution_count": null,
   "metadata": {},
   "outputs": [],
   "source": [
    "# Prompt\n",
    "PROMPT = \"Write a haiku about robots. Skip the preamble; go straight into the poem.\"\n",
    "\n",
    "# Print Claude's response\n",
    "print(get_completion(PROMPT))"
   ]
  },
  {
   "cell_type": "code",
   "execution_count": null,
   "metadata": {},
   "outputs": [],
   "source": [
    "# Prompt\n",
    "PROMPT = \"Who is the best basketball player of all time?\"\n",
    "\n",
    "# Print Claude's response\n",
    "print(get_completion(PROMPT))"
   ]
  },
  {
   "cell_type": "code",
   "execution_count": null,
   "metadata": {},
   "outputs": [],
   "source": [
    "# Prompt\n",
    "PROMPT = \"Who is the best basketball player of all time? Yes, there are differing opinions, but if you absolutely had to pick one player, who would it be?\"\n",
    "\n",
    "# Print Claude's response\n",
    "print(get_completion(PROMPT))"
   ]
  }
 ],
 "metadata": {
  "kernelspec": {
   "display_name": "Python 3",
   "language": "python",
   "name": "python3"
  },
  "language_info": {
   "codemirror_mode": {
    "name": "ipython",
    "version": 3
   },
   "file_extension": ".py",
   "mimetype": "text/x-python",
   "name": "python",
   "nbconvert_exporter": "python",
   "pygments_lexer": "ipython3",
   "version": "3.13.5"
  }
 },
 "nbformat": 4,
 "nbformat_minor": 2
}
